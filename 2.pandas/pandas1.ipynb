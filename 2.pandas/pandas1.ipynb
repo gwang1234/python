{
 "cells": [
  {
   "cell_type": "code",
   "execution_count": 4,
   "metadata": {},
   "outputs": [
    {
     "name": "stdout",
     "output_type": "stream",
     "text": [
      "ffa\n"
     ]
    }
   ],
   "source": [
    "import numpy as np\n",
    "import pandas as pd\n",
    "print(\"ffa\")"
   ]
  },
  {
   "cell_type": "code",
   "execution_count": 8,
   "metadata": {},
   "outputs": [
    {
     "name": "stdout",
     "output_type": "stream",
     "text": [
      "<class 'pandas.core.frame.DataFrame'>\n",
      "RangeIndex: 32 entries, 0 to 31\n",
      "Data columns (total 12 columns):\n",
      " #   Column  Non-Null Count  Dtype  \n",
      "---  ------  --------------  -----  \n",
      " 0   지역      32 non-null     object \n",
      " 1   망       32 non-null     object \n",
      " 2   측정소코드   32 non-null     int64  \n",
      " 3   측정소명    32 non-null     object \n",
      " 4   측정일시    32 non-null     int64  \n",
      " 5   SO2     32 non-null     float64\n",
      " 6   CO      32 non-null     float64\n",
      " 7   O3      32 non-null     float64\n",
      " 8   NO2     32 non-null     float64\n",
      " 9   PM10    32 non-null     int64  \n",
      " 10  PM25    32 non-null     int64  \n",
      " 11  주소      32 non-null     object \n",
      "dtypes: float64(4), int64(4), object(4)\n",
      "memory usage: 3.1+ KB\n",
      "None\n",
      "       지역     망   측정소코드 측정소명        측정일시    SO2   CO     O3    NO2  PM10  \\\n",
      "0  서울 송파구  도시대기  111273  송파구  2021040101  0.004  1.0  0.002  0.066    50   \n",
      "1  서울 송파구  도시대기  111273  송파구  2021040102  0.004  0.8  0.002  0.058    48   \n",
      "2  서울 송파구  도시대기  111273  송파구  2021040103  0.004  0.8  0.002  0.055    44   \n",
      "3  서울 송파구  도시대기  111273  송파구  2021040104  0.003  0.8  0.002  0.055    40   \n",
      "4  서울 송파구  도시대기  111273  송파구  2021040105  0.004  0.8  0.002  0.053    38   \n",
      "\n",
      "   PM25                주소  \n",
      "0    18  서울 송파구 백제고분로 236  \n",
      "1    20  서울 송파구 백제고분로 236  \n",
      "2    20  서울 송파구 백제고분로 236  \n",
      "3    20  서울 송파구 백제고분로 236  \n",
      "4    17  서울 송파구 백제고분로 236  \n"
     ]
    }
   ],
   "source": [
    "dust=pd.read_excel('dust1.xlsx')\n",
    "print(dust.info()) \n",
    "print(dust.head())"
   ]
  }
 ],
 "metadata": {
  "kernelspec": {
   "display_name": "Python 3",
   "language": "python",
   "name": "python3"
  },
  "language_info": {
   "codemirror_mode": {
    "name": "ipython",
    "version": 3
   },
   "file_extension": ".py",
   "mimetype": "text/x-python",
   "name": "python",
   "nbconvert_exporter": "python",
   "pygments_lexer": "ipython3",
   "version": "3.12.8"
  }
 },
 "nbformat": 4,
 "nbformat_minor": 2
}
