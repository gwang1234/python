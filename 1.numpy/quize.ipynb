{
 "cells": [
  {
   "cell_type": "code",
   "execution_count": 2,
   "metadata": {},
   "outputs": [],
   "source": [
    "\n",
    "import numpy as np"
   ]
  },
  {
   "cell_type": "code",
   "execution_count": 2,
   "metadata": {},
   "outputs": [
    {
     "name": "stdout",
     "output_type": "stream",
     "text": [
      "[ 1  2  3  4  5  6  7  8  9 10]\n",
      "ndim: 1\n",
      "(10,)\n",
      "int64\n",
      "size: 10\n"
     ]
    }
   ],
   "source": [
    "# 다음은 1부터 10까지 1차원 배열을 생성하고 배열의 속성을 알아보는 프로그램이다.\n",
    "# 실행결과를 확인하고 빈칸에 가장 알맞은 속성을 작성하세요\n",
    "\n",
    "arr = np.arange(1,11)\n",
    "print(arr)\n",
    "print('ndim:',arr.ndim)\n",
    "print(arr.shape)\n",
    "print(arr.dtype)\n",
    "print('size:',arr.size)"
   ]
  },
  {
   "cell_type": "code",
   "execution_count": 3,
   "metadata": {},
   "outputs": [
    {
     "data": {
      "text/plain": [
       "array([49, 48, 47, 46, 45, 44, 43, 42, 41, 40, 39, 38, 37, 36, 35, 34, 33,\n",
       "       32, 31, 30, 29, 28, 27, 26, 25, 24, 23, 22, 21, 20, 19, 18, 17, 16,\n",
       "       15, 14, 13, 12, 11, 10])"
      ]
     },
     "execution_count": 3,
     "metadata": {},
     "output_type": "execute_result"
    }
   ],
   "source": [
    "# 값이 10~50인 백터를 만들고 백터를 반전시켜 출력해 보세요\n",
    "arr2 = np.arange(10,50)\n",
    "arr2 = arr2[::-1]\n",
    "arr2"
   ]
  },
  {
   "cell_type": "code",
   "execution_count": 4,
   "metadata": {},
   "outputs": [
    {
     "name": "stdout",
     "output_type": "stream",
     "text": [
      "0.026141907584206092\n",
      "0.986420895364453\n"
     ]
    }
   ],
   "source": [
    "# 랜덤 값이 있는 10x10 배열을 만들고 최댓값과 최솟값을 찾아보세요\n",
    "arr3 = np.random.rand(10, 10)\n",
    "print(arr3.min())\n",
    "print(arr3.max())\n"
   ]
  },
  {
   "cell_type": "code",
   "execution_count": 5,
   "metadata": {},
   "outputs": [
    {
     "name": "stdout",
     "output_type": "stream",
     "text": [
      "[[0 1 2]\n",
      " [3 4 5]\n",
      " [6 7 8]]\n"
     ]
    }
   ],
   "source": [
    "# 0~8 범위의 값을 사용하여 3x3 배열을 생성해 보세요\n",
    "arr4 = np.arange(0,9).reshape(3, 3)\n",
    "print(arr4)"
   ]
  },
  {
   "cell_type": "code",
   "execution_count": 6,
   "metadata": {},
   "outputs": [
    {
     "data": {
      "text/plain": [
       "array([[ 1,  2,  3,  4,  5,  6],\n",
       "       [ 7,  8,  9, 10, 11, 12],\n",
       "       [13, 14, 15, 16, 17, 18],\n",
       "       [19, 20, 21, 22, 23, 24]])"
      ]
     },
     "execution_count": 6,
     "metadata": {},
     "output_type": "execute_result"
    }
   ],
   "source": [
    "# 다음과 같이 1에서 24까지의 값을 가지는 4x6 크기의 2차원 행렬 arr을 생성해 보세요\n",
    "arr5 = np.arange(1,25).reshape(4,6)\n",
    "arr5"
   ]
  },
  {
   "cell_type": "code",
   "execution_count": 7,
   "metadata": {},
   "outputs": [
    {
     "name": "stdout",
     "output_type": "stream",
     "text": [
      "[[ 8  9 10 11]\n",
      " [14 15 16 17]]\n"
     ]
    }
   ],
   "source": [
    "# arr 배열에 슬라이싱을 적용하여 다음과 같은 값을 가지는 배열을 생성해 보세요\n",
    "print(arr5[1:3,1:5])"
   ]
  },
  {
   "cell_type": "code",
   "execution_count": 9,
   "metadata": {},
   "outputs": [
    {
     "name": "stdout",
     "output_type": "stream",
     "text": [
      "[[18 17 16 15 14 13]\n",
      " [24 23 22 21 20 19]]\n"
     ]
    }
   ],
   "source": [
    "#arr 배열에 슬라이싱을 적용하여 다음과 같은 값을 가지는 배열을 생성해 보세요\n",
    "print(arr5[2:,::-1])"
   ]
  },
  {
   "cell_type": "code",
   "execution_count": 13,
   "metadata": {},
   "outputs": [
    {
     "data": {
      "text/plain": [
       "array([ 2,  4,  6,  8, 10, 12, 14, 16, 18, 20, 22, 24])"
      ]
     },
     "execution_count": 13,
     "metadata": {},
     "output_type": "execute_result"
    }
   ],
   "source": [
    "# arr 배열에서 2의 배수만 출력해 보세요\n",
    "arr5[arr5%2==0]"
   ]
  },
  {
   "cell_type": "code",
   "execution_count": 14,
   "metadata": {},
   "outputs": [
    {
     "data": {
      "text/plain": [
       "array([10, 11, 12, 13, 14, 15, 16, 17, 18, 19, 20])"
      ]
     },
     "execution_count": 14,
     "metadata": {},
     "output_type": "execute_result"
    }
   ],
   "source": [
    "# arr 배열에서 10부터 20까지의 값만 출력해 보세요\n",
    "arr5[(arr5>=10) & (arr5<=20)]"
   ]
  },
  {
   "cell_type": "code",
   "execution_count": 3,
   "metadata": {},
   "outputs": [
    {
     "name": "stdout",
     "output_type": "stream",
     "text": [
      "20\n",
      "210\n",
      "10.5\n",
      "[[ 1  2  3  4]\n",
      " [ 5  6  7  8]\n",
      " [ 9 10 11 12]\n",
      " [13 14 15 16]\n",
      " [17 18 19 20]]\n"
     ]
    }
   ],
   "source": [
    "# numpy 배열을 사용하여 1부터 20까지의 연속된 정수값을 가지는 1차원 배열을 생성하여 실행결과와 같이 출력\n",
    "arr = np.arange(1,21)\n",
    "print(arr[-1])\n",
    "print(arr.sum())\n",
    "print(arr.mean())\n",
    "new_arr = arr.reshape(5,4)\n",
    "print(new_arr)\n"
   ]
  },
  {
   "cell_type": "code",
   "execution_count": 5,
   "metadata": {},
   "outputs": [
    {
     "name": "stdout",
     "output_type": "stream",
     "text": [
      "인상된 금액:  [300. 225. 270. 330. 375.]\n",
      "평균 금액:  300.0\n",
      "평균이상인 원소:  [300. 330. 375.]\n",
      "평균이상인 원소의 개수:  3\n"
     ]
    }
   ],
   "source": [
    "salary=[200,150,180,220,250]\n",
    "new_salary=np.array(salary,dtype='float64') * 1.5\n",
    "print('인상된 금액: ', new_salary)\n",
    "avg_salary=np.mean(new_salary)\n",
    "print(\"평균 금액: \",avg_salary)\n",
    "result = new_salary >= avg_salary\n",
    "print(\"평균이상인 원소: \", new_salary[result])\n",
    "print(\"평균이상인 원소의 개수: \", len(new_salary[result]))"
   ]
  }
 ],
 "metadata": {
  "kernelspec": {
   "display_name": "Python 3",
   "language": "python",
   "name": "python3"
  },
  "language_info": {
   "codemirror_mode": {
    "name": "ipython",
    "version": 3
   },
   "file_extension": ".py",
   "mimetype": "text/x-python",
   "name": "python",
   "nbconvert_exporter": "python",
   "pygments_lexer": "ipython3",
   "version": "3.12.8"
  }
 },
 "nbformat": 4,
 "nbformat_minor": 2
}
