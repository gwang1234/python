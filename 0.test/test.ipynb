{
 "cells": [
  {
   "cell_type": "markdown",
   "metadata": {},
   "source": [
    "## 연습문제 풀기"
   ]
  },
  {
   "cell_type": "code",
   "execution_count": 3,
   "metadata": {},
   "outputs": [
    {
     "name": "stdout",
     "output_type": "stream",
     "text": [
      "홍길동 학생은 대림대학교 컴퓨터정보학부에 재학 중이며, 연락처는 010-1111-2222입니다. \n"
     ]
    }
   ],
   "source": [
    "# 학교, 학과, 이름, 연락처를 입력받아 변수에 저장, 출력\n",
    "school = input(\"학교: \")\n",
    "department = input(\"학과: \")\n",
    "name = input(\"이름: \")\n",
    "number = input(\"연락처: \")\n",
    "print(f\"{name} 학생은 {school} {department}에 재학 중이며, 연락처는 {number}입니다. \")"
   ]
  },
  {
   "cell_type": "code",
   "execution_count": 5,
   "metadata": {},
   "outputs": [
    {
     "name": "stdout",
     "output_type": "stream",
     "text": [
      "2023년 시점, 2님의 나이는 20살 입니다.\n"
     ]
    }
   ],
   "source": [
    "# 이름과 출생연도를 입력받아 한국 나이를 출력하는 프로그램을 작성하세요\n",
    "name = input(\"이름 입력력: \")\n",
    "number = int(input(\"출생년도 입력: \"))\n",
    "print(f\"2023년 시점, {name}님의 나이는 {2023-number+1}살 입니다.\")"
   ]
  },
  {
   "cell_type": "code",
   "execution_count": 6,
   "metadata": {},
   "outputs": [
    {
     "name": "stdout",
     "output_type": "stream",
     "text": [
      "4월은 봄\n"
     ]
    }
   ],
   "source": [
    "# 월을 입력받아 계절을 출력하는 프로그램을 작성하세요\n",
    "month = int(input(\"월 입력: \"))\n",
    "if 3 <= month <=5:\n",
    "    print(f\"{month}월은 봄\")\n",
    "elif 6 <= month <=8:\n",
    "    print(f\"{month}월은 여름\")\n",
    "elif 9 <= month <=11:\n",
    "    print(f\"{month}월은 가을\")\n",
    "elif 12 <= month <=2:\n",
    "    print(f\"{month}월은 겨울\")\n",
    "else:\n",
    "    print(\"그런 계절 없습니다\")"
   ]
  },
  {
   "cell_type": "code",
   "execution_count": 7,
   "metadata": {},
   "outputs": [
    {
     "name": "stdout",
     "output_type": "stream",
     "text": [
      "불합격\n"
     ]
    }
   ],
   "source": [
    "# 두 번의 점수를 입력받아 합격 및 불합격 여부를 출력하는 프로그램을 작성하세요\n",
    "a = float(input(\"1차 점수 입력: \"))\n",
    "b = float(input(\"2차 점수 입력: \"))\n",
    "\n",
    "if ((a + b / 2.0) >= 70) and (a >= 50) and (b >= 50):\n",
    "    print(\"합격\")\n",
    "else:\n",
    "    print(\"불합격\")"
   ]
  },
  {
   "cell_type": "code",
   "execution_count": 8,
   "metadata": {},
   "outputs": [
    {
     "name": "stdout",
     "output_type": "stream",
     "text": [
      "<< 1~30 숫자 맞히기 게임 >>\n",
      "더 큰 숫자 입력!\n",
      "더 큰 숫자 입력!\n",
      "더 작은 숫자 입력!\n",
      "더 큰 숫자 입력!\n",
      "정답!!\n"
     ]
    }
   ],
   "source": [
    "# 컴퓨터가 생각한 1~30 사이의 숫자를 맞히는 게임 프로그램을 작성하세요\n",
    "import random\n",
    "\n",
    "num = random.randint(1,30)\n",
    "print(\"<< 1~30 숫자 맞히기 게임 >>\")\n",
    "while True:\n",
    "    a = int(input(\"숫자 입력(종료 0): \"))\n",
    "    if (a == 0):\n",
    "        break\n",
    "    elif (num == a):\n",
    "        print(\"정답!!\")\n",
    "        break\n",
    "    elif (a < num):\n",
    "        print(\"더 큰 숫자 입력!\")\n",
    "    elif (a > num):\n",
    "        print(\"더 작은 숫자 입력!\")\n",
    "    "
   ]
  },
  {
   "cell_type": "code",
   "execution_count": 16,
   "metadata": {},
   "outputs": [
    {
     "name": "stdout",
     "output_type": "stream",
     "text": [
      "<< 생성된 로또 번호 >>\n",
      "23 35 38 19 3 39\n"
     ]
    }
   ],
   "source": [
    "# 행운의 로또 복권 번호를 생성하여 리스트에 저장한 후 출력하세요\n",
    "import random\n",
    "\n",
    "numbers = []\n",
    "while len(numbers) < 6:\n",
    "    num = random.randint(1, 45)\n",
    "    if num not in numbers:\n",
    "        numbers.append(num)\n",
    "    \n",
    "print(\"<< 생성된 로또 번호 >>\")\n",
    "print(\" \".join(map(str, numbers)))"
   ]
  },
  {
   "cell_type": "code",
   "execution_count": null,
   "metadata": {},
   "outputs": [
    {
     "name": "stdout",
     "output_type": "stream",
     "text": [
      "틀림! 다시!\n",
      "틀림! 다시!\n",
      "맞음!!\n"
     ]
    }
   ],
   "source": [
    "# 타자 연습 게임 프로그램을 작성하세요\n",
    "import random\n",
    "\n",
    "list2 = [\"낙하\", \"불구덩이든\", \"경찰팥죽\"]\n",
    "num = 1\n",
    "\n",
    "while True:\n",
    "    quiz = random.choice(list2)\n",
    "    a = input(f\"문제 {num} (종료 0): {quiz}\")\n",
    "    \n",
    "    if (a == \"0\"):\n",
    "        break\n",
    "    if (a == quiz):\n",
    "        print(\"맞음!!\")\n",
    "    else:\n",
    "        print(\"틀림! 다시!\")\n",
    "    num += 1\n",
    "    "
   ]
  },
  {
   "cell_type": "code",
   "execution_count": 27,
   "metadata": {},
   "outputs": [
    {
     "name": "stdout",
     "output_type": "stream",
     "text": [
      "대성리:0표 춘천:0표 을왕리:0표 청평:0표 \n",
      "<< MT 장소 투표 >>\n",
      "장소:\n",
      "대성리:0표 춘천:1표 을왕리:0표 청평:0표 \n",
      "최다득표: 춘천 1표\n"
     ]
    }
   ],
   "source": [
    "# MT 장소를 선정하기 위한 프로그램이다. 실행결과와 같이 MT 장소를 입력받아 딕셔너리에 저장한 후 투표 결과와 최다득표 MT 장장소를 화면에 출력하세요\n",
    "\n",
    "dictionary = {\"대성리\":0, \"춘천\":0, \"을왕리\":0, \"청평\":0}\n",
    "\n",
    "for key,value in dictionary.items():\n",
    "    print(f\"{key}:{value}표\", end=\" \")\n",
    "\n",
    "print(\"\\n<< MT 장소 투표 >>\")\n",
    "for i in range(4):\n",
    "    place = input(\"장소: \")\n",
    "    if place in dictionary:\n",
    "        dictionary[place] += 1\n",
    "print(\"장소:\")\n",
    "for key,value in dictionary.items():\n",
    "    print(f\"{key}:{value}표\", end=\" \")\n",
    "\n",
    "num = max(dictionary.values())\n",
    "place = (key for key, value in dictionary.items() if value == num)\n",
    "print()\n",
    "print(f\"최다득표: {next(place)} {num}표\")\n"
   ]
  },
  {
   "cell_type": "code",
   "execution_count": 28,
   "metadata": {},
   "outputs": [
    {
     "name": "stdout",
     "output_type": "stream",
     "text": [
      "Hoo oohoohoohooh\n",
      "\n",
      "Twinkle, twinkle, little star,\n",
      "How I wonder what you are!\n",
      "Up above the world so high,\n",
      "Like a diamond in the sky.\n",
      "Twinkle, twinkle, little star,\n",
      "How I wonder what you are!\n"
     ]
    }
   ],
   "source": [
    "# 9. 다음 파이썬 코드의 결과를 예측하세요\n",
    "\n",
    "def print_lyrics():\n",
    "    print(\"Twinkle, twinkle, little star,\")\n",
    "    print(\"How I wonder what you are!\")\n",
    "    print(\"Up above the world so high,\")\n",
    "    print(\"Like a diamond in the sky.\")\n",
    "    print(\"Twinkle, twinkle, little star,\")\n",
    "    print(\"How I wonder what you are!\")\n",
    "\n",
    "\n",
    "print(\"Hoo\", \"ooh\" * 4)\n",
    "print()\n",
    "print_lyrics()"
   ]
  },
  {
   "cell_type": "code",
   "execution_count": 29,
   "metadata": {},
   "outputs": [
    {
     "name": "stdout",
     "output_type": "stream",
     "text": [
      "바닐라라떼 : 4,500원\n"
     ]
    }
   ],
   "source": [
    "# 사이렌오더를 통해 음료를 미리 예약하는 프로그램을 작성하세요\n",
    "\n",
    "def price(menu: int):\n",
    "\n",
    "    if menu == 1:\n",
    "        return print(\"아메리카노: 3,000원\")\n",
    "    elif menu == 2:\n",
    "        return print(\"카페라떼 : 4,000원\")\n",
    "    elif menu == 3:\n",
    "        return print(\"바닐라라떼 : 4,500원\")\n",
    "    else:\n",
    "        print(\"잘못된 숫자를 입력했습니다.\")\n",
    "\n",
    "\n",
    "menu = int(input(\"메뉴선택(1:아메리카노/2:카페라떼/3:바닐라라떼) \"))\n",
    "price(menu)"
   ]
  },
  {
   "cell_type": "code",
   "execution_count": 40,
   "metadata": {},
   "outputs": [
    {
     "name": "stdout",
     "output_type": "stream",
     "text": [
      "['attention.png', 'ditto.jpg']\n"
     ]
    }
   ],
   "source": [
    "# 다음 빈 곳에 알맞은 파이썬 코드를 작성하세요\n",
    "\n",
    "files = [\"report.hwp\", \"newJeans\", \"attention.png\", \"ditto.jpg\", \"address\"]\n",
    "\n",
    "print(list(filter(lambda file: file.endswith((\".png\", \".jpg\")), files)))"
   ]
  },
  {
   "cell_type": "code",
   "execution_count": 3,
   "metadata": {},
   "outputs": [
    {
     "name": "stdout",
     "output_type": "stream",
     "text": [
      "7월 평균기온은 23.0℃입니다\n",
      "8월 평균기온은 28.2℃입니다\n",
      "9월 평균기온은 21.9℃입니다\n",
      "10월 평균기온은 16.6℃입니다\n",
      "11월 평균기온은 11.0℃입니다\n",
      "12월 평균기온은 3.1℃입니다\n"
     ]
    }
   ],
   "source": [
    "# 파일 내용을 읽어서 월의 평균기온을 계산한 후 출력\n",
    "\n",
    "file = open(\"weather.txt\")\n",
    "datas = file.readlines()\n",
    "for data in datas:\n",
    "    month, low, hight = data.split(\",\")\n",
    "    avg = (float(low) + float(hight))/2\n",
    "    print(f\"{month}월 평균기온은 {avg:.1f}℃입니다\")\n",
    "\n",
    "file.close()"
   ]
  },
  {
   "cell_type": "code",
   "execution_count": 5,
   "metadata": {},
   "outputs": [
    {
     "data": {
      "text/html": [
       "<div>\n",
       "<style scoped>\n",
       "    .dataframe tbody tr th:only-of-type {\n",
       "        vertical-align: middle;\n",
       "    }\n",
       "\n",
       "    .dataframe tbody tr th {\n",
       "        vertical-align: top;\n",
       "    }\n",
       "\n",
       "    .dataframe thead th {\n",
       "        text-align: right;\n",
       "    }\n",
       "</style>\n",
       "<table border=\"1\" class=\"dataframe\">\n",
       "  <thead>\n",
       "    <tr style=\"text-align: right;\">\n",
       "      <th></th>\n",
       "      <th>국적코드</th>\n",
       "      <th>국적명</th>\n",
       "    </tr>\n",
       "  </thead>\n",
       "  <tbody>\n",
       "    <tr>\n",
       "      <th>0</th>\n",
       "      <td>A01</td>\n",
       "      <td>필리핀</td>\n",
       "    </tr>\n",
       "    <tr>\n",
       "      <th>1</th>\n",
       "      <td>A02</td>\n",
       "      <td>일본</td>\n",
       "    </tr>\n",
       "    <tr>\n",
       "      <th>2</th>\n",
       "      <td>A03</td>\n",
       "      <td>미국</td>\n",
       "    </tr>\n",
       "    <tr>\n",
       "      <th>3</th>\n",
       "      <td>A04</td>\n",
       "      <td>중국</td>\n",
       "    </tr>\n",
       "    <tr>\n",
       "      <th>4</th>\n",
       "      <td>A05</td>\n",
       "      <td>호주</td>\n",
       "    </tr>\n",
       "    <tr>\n",
       "      <th>5</th>\n",
       "      <td>A06</td>\n",
       "      <td>베트남</td>\n",
       "    </tr>\n",
       "    <tr>\n",
       "      <th>6</th>\n",
       "      <td>A07</td>\n",
       "      <td>스위스</td>\n",
       "    </tr>\n",
       "    <tr>\n",
       "      <th>7</th>\n",
       "      <td>A99</td>\n",
       "      <td>기타</td>\n",
       "    </tr>\n",
       "    <tr>\n",
       "      <th>8</th>\n",
       "      <td>A88</td>\n",
       "      <td>홍콩</td>\n",
       "    </tr>\n",
       "    <tr>\n",
       "      <th>9</th>\n",
       "      <td>A88</td>\n",
       "      <td>홍콩</td>\n",
       "    </tr>\n",
       "  </tbody>\n",
       "</table>\n",
       "</div>"
      ],
      "text/plain": [
       "  국적코드  국적명\n",
       "0  A01  필리핀\n",
       "1  A02   일본\n",
       "2  A03   미국\n",
       "3  A04   중국\n",
       "4  A05   호주\n",
       "5  A06  베트남\n",
       "6  A07  스위스\n",
       "7  A99   기타\n",
       "8  A88   홍콩\n",
       "9  A88   홍콩"
      ]
     },
     "execution_count": 5,
     "metadata": {},
     "output_type": "execute_result"
    }
   ],
   "source": [
    "# 임의의 엑셀 파일을 이용하여 수행\n",
    "import pandas as pd\n",
    "\n",
    "df = pd.read_excel('code.xlsx')\n",
    "new = pd.DataFrame([['A88', '홍콩']], columns=df.columns)\n",
    "code = pd.concat([df, new], ignore_index=True)\n",
    "code.to_excel(\"code.xlsx\", index=False)\n",
    "code"
   ]
  }
 ],
 "metadata": {
  "kernelspec": {
   "display_name": "Python 3",
   "language": "python",
   "name": "python3"
  },
  "language_info": {
   "codemirror_mode": {
    "name": "ipython",
    "version": 3
   },
   "file_extension": ".py",
   "mimetype": "text/x-python",
   "name": "python",
   "nbconvert_exporter": "python",
   "pygments_lexer": "ipython3",
   "version": "3.12.8"
  }
 },
 "nbformat": 4,
 "nbformat_minor": 2
}
